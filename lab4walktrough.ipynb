{
 "cells": [
  {
   "cell_type": "code",
   "execution_count": 2,
   "metadata": {},
   "outputs": [],
   "source": [
    "from sklearn.datasets import load_diabetes\n",
    "from sklearn.model_selection import train_test_split\n",
    "from sklearn.linear_model import LinearRegression\n",
    "from sklearn import svm\n",
    "\n",
    "import pandas as pd\n",
    "import numpy as np"
   ]
  },
  {
   "cell_type": "code",
   "execution_count": 3,
   "metadata": {},
   "outputs": [
    {
     "data": {
      "text/html": [
       "<div>\n",
       "<style scoped>\n",
       "    .dataframe tbody tr th:only-of-type {\n",
       "        vertical-align: middle;\n",
       "    }\n",
       "\n",
       "    .dataframe tbody tr th {\n",
       "        vertical-align: top;\n",
       "    }\n",
       "\n",
       "    .dataframe thead th {\n",
       "        text-align: right;\n",
       "    }\n",
       "</style>\n",
       "<table border=\"1\" class=\"dataframe\">\n",
       "  <thead>\n",
       "    <tr style=\"text-align: right;\">\n",
       "      <th></th>\n",
       "      <th>age</th>\n",
       "      <th>sex</th>\n",
       "      <th>bmi</th>\n",
       "      <th>bp</th>\n",
       "      <th>s1</th>\n",
       "      <th>s2</th>\n",
       "      <th>s3</th>\n",
       "      <th>s4</th>\n",
       "      <th>s5</th>\n",
       "      <th>s6</th>\n",
       "      <th>target</th>\n",
       "    </tr>\n",
       "  </thead>\n",
       "  <tbody>\n",
       "    <tr>\n",
       "      <th>0</th>\n",
       "      <td>0.038076</td>\n",
       "      <td>0.050680</td>\n",
       "      <td>0.061696</td>\n",
       "      <td>0.021872</td>\n",
       "      <td>-0.044223</td>\n",
       "      <td>-0.034821</td>\n",
       "      <td>-0.043401</td>\n",
       "      <td>-0.002592</td>\n",
       "      <td>0.019907</td>\n",
       "      <td>-0.017646</td>\n",
       "      <td>151.0</td>\n",
       "    </tr>\n",
       "    <tr>\n",
       "      <th>1</th>\n",
       "      <td>-0.001882</td>\n",
       "      <td>-0.044642</td>\n",
       "      <td>-0.051474</td>\n",
       "      <td>-0.026328</td>\n",
       "      <td>-0.008449</td>\n",
       "      <td>-0.019163</td>\n",
       "      <td>0.074412</td>\n",
       "      <td>-0.039493</td>\n",
       "      <td>-0.068332</td>\n",
       "      <td>-0.092204</td>\n",
       "      <td>75.0</td>\n",
       "    </tr>\n",
       "    <tr>\n",
       "      <th>2</th>\n",
       "      <td>0.085299</td>\n",
       "      <td>0.050680</td>\n",
       "      <td>0.044451</td>\n",
       "      <td>-0.005670</td>\n",
       "      <td>-0.045599</td>\n",
       "      <td>-0.034194</td>\n",
       "      <td>-0.032356</td>\n",
       "      <td>-0.002592</td>\n",
       "      <td>0.002861</td>\n",
       "      <td>-0.025930</td>\n",
       "      <td>141.0</td>\n",
       "    </tr>\n",
       "    <tr>\n",
       "      <th>3</th>\n",
       "      <td>-0.089063</td>\n",
       "      <td>-0.044642</td>\n",
       "      <td>-0.011595</td>\n",
       "      <td>-0.036656</td>\n",
       "      <td>0.012191</td>\n",
       "      <td>0.024991</td>\n",
       "      <td>-0.036038</td>\n",
       "      <td>0.034309</td>\n",
       "      <td>0.022688</td>\n",
       "      <td>-0.009362</td>\n",
       "      <td>206.0</td>\n",
       "    </tr>\n",
       "    <tr>\n",
       "      <th>4</th>\n",
       "      <td>0.005383</td>\n",
       "      <td>-0.044642</td>\n",
       "      <td>-0.036385</td>\n",
       "      <td>0.021872</td>\n",
       "      <td>0.003935</td>\n",
       "      <td>0.015596</td>\n",
       "      <td>0.008142</td>\n",
       "      <td>-0.002592</td>\n",
       "      <td>-0.031988</td>\n",
       "      <td>-0.046641</td>\n",
       "      <td>135.0</td>\n",
       "    </tr>\n",
       "    <tr>\n",
       "      <th>...</th>\n",
       "      <td>...</td>\n",
       "      <td>...</td>\n",
       "      <td>...</td>\n",
       "      <td>...</td>\n",
       "      <td>...</td>\n",
       "      <td>...</td>\n",
       "      <td>...</td>\n",
       "      <td>...</td>\n",
       "      <td>...</td>\n",
       "      <td>...</td>\n",
       "      <td>...</td>\n",
       "    </tr>\n",
       "    <tr>\n",
       "      <th>437</th>\n",
       "      <td>0.041708</td>\n",
       "      <td>0.050680</td>\n",
       "      <td>0.019662</td>\n",
       "      <td>0.059744</td>\n",
       "      <td>-0.005697</td>\n",
       "      <td>-0.002566</td>\n",
       "      <td>-0.028674</td>\n",
       "      <td>-0.002592</td>\n",
       "      <td>0.031193</td>\n",
       "      <td>0.007207</td>\n",
       "      <td>178.0</td>\n",
       "    </tr>\n",
       "    <tr>\n",
       "      <th>438</th>\n",
       "      <td>-0.005515</td>\n",
       "      <td>0.050680</td>\n",
       "      <td>-0.015906</td>\n",
       "      <td>-0.067642</td>\n",
       "      <td>0.049341</td>\n",
       "      <td>0.079165</td>\n",
       "      <td>-0.028674</td>\n",
       "      <td>0.034309</td>\n",
       "      <td>-0.018114</td>\n",
       "      <td>0.044485</td>\n",
       "      <td>104.0</td>\n",
       "    </tr>\n",
       "    <tr>\n",
       "      <th>439</th>\n",
       "      <td>0.041708</td>\n",
       "      <td>0.050680</td>\n",
       "      <td>-0.015906</td>\n",
       "      <td>0.017293</td>\n",
       "      <td>-0.037344</td>\n",
       "      <td>-0.013840</td>\n",
       "      <td>-0.024993</td>\n",
       "      <td>-0.011080</td>\n",
       "      <td>-0.046883</td>\n",
       "      <td>0.015491</td>\n",
       "      <td>132.0</td>\n",
       "    </tr>\n",
       "    <tr>\n",
       "      <th>440</th>\n",
       "      <td>-0.045472</td>\n",
       "      <td>-0.044642</td>\n",
       "      <td>0.039062</td>\n",
       "      <td>0.001215</td>\n",
       "      <td>0.016318</td>\n",
       "      <td>0.015283</td>\n",
       "      <td>-0.028674</td>\n",
       "      <td>0.026560</td>\n",
       "      <td>0.044529</td>\n",
       "      <td>-0.025930</td>\n",
       "      <td>220.0</td>\n",
       "    </tr>\n",
       "    <tr>\n",
       "      <th>441</th>\n",
       "      <td>-0.045472</td>\n",
       "      <td>-0.044642</td>\n",
       "      <td>-0.073030</td>\n",
       "      <td>-0.081413</td>\n",
       "      <td>0.083740</td>\n",
       "      <td>0.027809</td>\n",
       "      <td>0.173816</td>\n",
       "      <td>-0.039493</td>\n",
       "      <td>-0.004222</td>\n",
       "      <td>0.003064</td>\n",
       "      <td>57.0</td>\n",
       "    </tr>\n",
       "  </tbody>\n",
       "</table>\n",
       "<p>442 rows × 11 columns</p>\n",
       "</div>"
      ],
      "text/plain": [
       "          age       sex       bmi        bp        s1        s2        s3   \n",
       "0    0.038076  0.050680  0.061696  0.021872 -0.044223 -0.034821 -0.043401  \\\n",
       "1   -0.001882 -0.044642 -0.051474 -0.026328 -0.008449 -0.019163  0.074412   \n",
       "2    0.085299  0.050680  0.044451 -0.005670 -0.045599 -0.034194 -0.032356   \n",
       "3   -0.089063 -0.044642 -0.011595 -0.036656  0.012191  0.024991 -0.036038   \n",
       "4    0.005383 -0.044642 -0.036385  0.021872  0.003935  0.015596  0.008142   \n",
       "..        ...       ...       ...       ...       ...       ...       ...   \n",
       "437  0.041708  0.050680  0.019662  0.059744 -0.005697 -0.002566 -0.028674   \n",
       "438 -0.005515  0.050680 -0.015906 -0.067642  0.049341  0.079165 -0.028674   \n",
       "439  0.041708  0.050680 -0.015906  0.017293 -0.037344 -0.013840 -0.024993   \n",
       "440 -0.045472 -0.044642  0.039062  0.001215  0.016318  0.015283 -0.028674   \n",
       "441 -0.045472 -0.044642 -0.073030 -0.081413  0.083740  0.027809  0.173816   \n",
       "\n",
       "           s4        s5        s6  target  \n",
       "0   -0.002592  0.019907 -0.017646   151.0  \n",
       "1   -0.039493 -0.068332 -0.092204    75.0  \n",
       "2   -0.002592  0.002861 -0.025930   141.0  \n",
       "3    0.034309  0.022688 -0.009362   206.0  \n",
       "4   -0.002592 -0.031988 -0.046641   135.0  \n",
       "..        ...       ...       ...     ...  \n",
       "437 -0.002592  0.031193  0.007207   178.0  \n",
       "438  0.034309 -0.018114  0.044485   104.0  \n",
       "439 -0.011080 -0.046883  0.015491   132.0  \n",
       "440  0.026560  0.044529 -0.025930   220.0  \n",
       "441 -0.039493 -0.004222  0.003064    57.0  \n",
       "\n",
       "[442 rows x 11 columns]"
      ]
     },
     "execution_count": 3,
     "metadata": {},
     "output_type": "execute_result"
    }
   ],
   "source": [
    "# Загрузка набора данных\n",
    "diabetes = load_diabetes(as_frame=True)\n",
    "# Преобразование данных в объект DataFrame\n",
    "df = diabetes['frame']\n",
    "df"
   ]
  },
  {
   "cell_type": "code",
   "execution_count": 4,
   "metadata": {},
   "outputs": [
    {
     "data": {
      "text/plain": [
       "age       0\n",
       "sex       0\n",
       "bmi       0\n",
       "bp        0\n",
       "s1        0\n",
       "s2        0\n",
       "s3        0\n",
       "s4        0\n",
       "s5        0\n",
       "s6        0\n",
       "target    0\n",
       "dtype: int64"
      ]
     },
     "execution_count": 4,
     "metadata": {},
     "output_type": "execute_result"
    }
   ],
   "source": [
    "# Подсчет пропущенных значений в DataFrame\n",
    "df.isna().sum()"
   ]
  },
  {
   "cell_type": "code",
   "execution_count": 5,
   "metadata": {},
   "outputs": [],
   "source": [
    "# Разделение данных на обучающую и тестовую выборки\n",
    "X_train, X_test, y_train, y_test = train_test_split(diabetes['data'], diabetes['target'], test_size=0.1)"
   ]
  },
  {
   "cell_type": "code",
   "execution_count": 6,
   "metadata": {},
   "outputs": [
    {
     "data": {
      "text/plain": [
       "0.4310849742789912"
      ]
     },
     "execution_count": 6,
     "metadata": {},
     "output_type": "execute_result"
    }
   ],
   "source": [
    "# Создание объекта модели линейной регрессии\n",
    "lin_reg = LinearRegression()\n",
    "# Обучение модели на обучающих данных\n",
    "lin_reg.fit(X_train, y_train)\n",
    "# Оценка качества модели на тестовых данных с помощью коэффициента детерминации (R^2)\n",
    "lin_reg.score(X_test, y_test)"
   ]
  },
  {
   "cell_type": "code",
   "execution_count": 7,
   "metadata": {},
   "outputs": [
    {
     "data": {
      "text/plain": [
       "(array([  -9.0122731 , -243.7939684 ,  554.87549345,  356.58930269,\n",
       "        -798.93861678,  512.23128651,   70.94538313,  131.6856502 ,\n",
       "         738.23047089,   42.60725597]),\n",
       " 152.9044307793216)"
      ]
     },
     "execution_count": 7,
     "metadata": {},
     "output_type": "execute_result"
    }
   ],
   "source": [
    "lin_reg.coef_, lin_reg.intercept_ #lintercept-точка пересечения с ox"
   ]
  },
  {
   "cell_type": "code",
   "execution_count": 8,
   "metadata": {},
   "outputs": [
    {
     "data": {
      "text/plain": [
       "0.19876636922705937"
      ]
     },
     "execution_count": 8,
     "metadata": {},
     "output_type": "execute_result"
    }
   ],
   "source": [
    "# Создание объекта модели метода опорных векторов (SVM)\n",
    "SVMRegr = svm.SVR()\n",
    "# Обучение модели SVM на обучающих данных\n",
    "SVMRegr.fit(X_train, y_train)\n",
    "# Оценка качества модели SVM на тестовых данных с помощью коэффициента детерминации (R^2)\n",
    "SVMRegr.score(X_test, y_test)"
   ]
  },
  {
   "cell_type": "code",
   "execution_count": 9,
   "metadata": {},
   "outputs": [
    {
     "data": {
      "text/plain": [
       "1.0"
      ]
     },
     "execution_count": 9,
     "metadata": {},
     "output_type": "execute_result"
    }
   ],
   "source": [
    "from sklearn.tree import DecisionTreeRegressor\n",
    "# Создание объекта модели дерева решений\n",
    "DTR = DecisionTreeRegressor()\n",
    "# Обучение модели дерева решений на тестовых данных\n",
    "DTR.fit(X_test, y_test)\n",
    "# Оценка качества модели дерева решений на тестовых данных с помощью коэффициента детерминации (R^2)\n",
    "DTR.score(X_test, y_test)"
   ]
  },
  {
   "cell_type": "code",
   "execution_count": 10,
   "metadata": {},
   "outputs": [
    {
     "data": {
      "text/plain": [
       "array([116.,  88.,  86.,  98., 121.,  31.,  51., 233., 108.,  69., 192.,\n",
       "       135.,  61.,  71., 212., 134., 200., 202., 270.,  64., 262., 281.,\n",
       "        53., 118., 281.,  43.,  52., 182.,  48., 184., 158.,  85., 128.,\n",
       "       168., 195., 114.,  65., 131., 177., 185., 140., 276.,  91., 127.,\n",
       "       273.])"
      ]
     },
     "execution_count": 10,
     "metadata": {},
     "output_type": "execute_result"
    }
   ],
   "source": [
    "DTR.predict(X_test)"
   ]
  },
  {
   "cell_type": "code",
   "execution_count": 11,
   "metadata": {},
   "outputs": [
    {
     "name": "stdout",
     "output_type": "stream",
     "text": [
      "MAX:\n",
      "lr: 128.39892732176133, SVM: 145.4974781349896, DTR: 0.0\n",
      "MSE:\n",
      "lr: 3030.1633574202974, SVM: 4267.542038679771, DTR: 0.0\n",
      "R2:\n",
      "lr: 0.4310849742789912, SVM: 0.19876636922705937, DTR: 1.0\n",
      "[  -9.0122731  -243.7939684   554.87549345  356.58930269 -798.93861678\n",
      "  512.23128651   70.94538313  131.6856502   738.23047089   42.60725597] 152.9044307793216\n"
     ]
    }
   ],
   "source": [
    "from sklearn.metrics import mean_squared_error, max_error, r2_score\n",
    "\n",
    "# Прогнозирование значений на тестовых данных с помощью модели линейной регрессии\n",
    "lin_reg_test = lin_reg.predict(X_test)\n",
    "# Вычисление среднеквадратичной ошибки для модели линейной регрессии\n",
    "lr_MSE = mean_squared_error(y_pred=lin_reg_test, y_true=y_test)\n",
    "\n",
    "# Прогнозирование значений на тестовых данных с помощью модели SVM(машина опорных вектров)\n",
    "SVM_test = SVMRegr.predict(X_test)\n",
    "# Вычисление среднеквадратичной ошибки для модели SVM\n",
    "SVM_MSE = mean_squared_error(y_pred=SVM_test, y_true=y_test)\n",
    "\n",
    "# Прогнозирование значений на тестовых данных с помощью модели дерева решений\n",
    "DTR_test = DTR.predict(X_test)\n",
    "# Вычисление среднеквадратичной ошибки для модели дерева решений\n",
    "DTR_MSE = mean_squared_error(y_pred=DTR_test, y_true=y_test)\n",
    "\n",
    "# Прогнозирование значений на тестовых данных с помощью модели линейной регрессии\n",
    "lin_reg_test = lin_reg.predict(X_test)\n",
    "# Вычисление максимальной ошибки для модели линейной регрессии\n",
    "lr_MAX = max_error(y_pred=lin_reg_test, y_true=y_test)\n",
    "\n",
    "# Прогнозирование значений на тестовых данных с помощью модели SVM\n",
    "SVM_test = SVMRegr.predict(X_test)\n",
    "# Вычисление максимальной ошибки для модели SVM\n",
    "SVM_MAX = max_error(y_pred=SVM_test, y_true=y_test)\n",
    "\n",
    "# Прогнозирование значений на тестовых данных с помощью модели дерева решений\n",
    "DTR_test = DTR.predict(X_test)\n",
    "# Вычисление максимальной ошибки для модели дерева решений\n",
    "DTR_MAX = max_error(y_pred=DTR_test, y_true=y_test)\n",
    "\n",
    "# Прогнозирование значений на тестовых данных с помощью модели линейной регрессии\n",
    "lin_reg_test = lin_reg.predict(X_test)\n",
    "# Вычисление коэффициента детерминации (R^2) для модели линейной регрессии\n",
    "lr_r2 = r2_score(y_pred=lin_reg_test, y_true=y_test)\n",
    "\n",
    "# Прогнозирование значений на тестовых данных с помощью модели SVM\n",
    "SVM_test = SVMRegr.predict(X_test)\n",
    "# Вычисление коэффициента детерминации (R^2) для модели SVM\n",
    "SVM_r2 = r2_score(y_pred=SVM_test, y_true=y_test)\n",
    "\n",
    "# Прогнозирование значений на тестовых данных с помощью модели дерева решений\n",
    "DTR_test = DTR.predict(X_test)\n",
    "# Вычисление коэффициента детерминации (R^2) для модели дерева решений\n",
    "DTR_r2 = r2_score(y_pred=DTR_test, y_true=y_test)\n",
    "\n",
    "# Вывод максимальной ошибки, среднеквадратичной ошибки и коэффициента детерминации для каждой модели\n",
    "print(f\"MAX:\\nlr: {lr_MAX}, SVM: {SVM_MAX}, DTR: {DTR_MAX}\")\n",
    "print(f\"MSE:\\nlr: {lr_MSE}, SVM: {SVM_MSE}, DTR: {DTR_MSE}\")\n",
    "print(f\"R2:\\nlr: {lr_r2}, SVM: {SVM_r2}, DTR: {DTR_r2}\")\n",
    "\n",
    "# Вывод коэффициентов модели линейной регрессии\n",
    "print(lin_reg.coef_, lin_reg.intercept_)"
   ]
  }
 ],
 "metadata": {
  "kernelspec": {
   "display_name": ".venv",
   "language": "python",
   "name": "python3"
  },
  "language_info": {
   "codemirror_mode": {
    "name": "ipython",
    "version": 3
   },
   "file_extension": ".py",
   "mimetype": "text/x-python",
   "name": "python",
   "nbconvert_exporter": "python",
   "pygments_lexer": "ipython3",
   "version": "3.9.6"
  },
  "orig_nbformat": 4
 },
 "nbformat": 4,
 "nbformat_minor": 2
}
